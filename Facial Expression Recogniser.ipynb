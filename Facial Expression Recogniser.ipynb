{
 "cells": [
  {
   "cell_type": "code",
   "execution_count": 1,
   "metadata": {
    "id": "OU7kyKuzKpSs"
   },
   "outputs": [],
   "source": [
    "# Imports required for this project\n",
    "import tensorflow as tf\n",
    "import numpy as np\n",
    "import matplotlib.pyplot as plt\n",
    "from pathlib import Path\n",
    "\n",
    "tf.random.set_seed(4)"
   ]
  },
  {
   "cell_type": "code",
   "execution_count": 2,
   "metadata": {
    "id": "TbHxHfS7KpPy"
   },
   "outputs": [],
   "source": [
    "# Creating the Pathlib PATH objects\n",
    "train_path = Path(\"train\")\n",
    "test_path = Path(\"test\")"
   ]
  },
  {
   "cell_type": "code",
   "execution_count": 3,
   "metadata": {
    "colab": {
     "base_uri": "https://localhost:8080/"
    },
    "id": "RY65ZostKpND",
    "outputId": "82da8d07-4699-4ad0-d15d-a9ff771ae836"
   },
   "outputs": [
    {
     "data": {
      "text/plain": [
       "['train\\\\angry\\\\Training_10118481.jpg',\n",
       " 'train\\\\angry\\\\Training_10120469.jpg',\n",
       " 'train\\\\angry\\\\Training_10131352.jpg',\n",
       " 'train\\\\angry\\\\Training_10161559.jpg',\n",
       " 'train\\\\angry\\\\Training_1021836.jpg',\n",
       " 'train\\\\angry\\\\Training_10269675.jpg',\n",
       " 'train\\\\angry\\\\Training_10278738.jpg',\n",
       " 'train\\\\angry\\\\Training_10290703.jpg',\n",
       " 'train\\\\angry\\\\Training_10295477.jpg',\n",
       " 'train\\\\angry\\\\Training_10315441.jpg']"
      ]
     },
     "execution_count": 3,
     "metadata": {},
     "output_type": "execute_result"
    }
   ],
   "source": [
    "# Getting Image Paths\n",
    "train_image_paths = list(train_path.glob(\"*/*\"))\n",
    "train_image_paths = list(map(lambda x : str(x) , train_image_paths))\n",
    "\n",
    "train_image_paths[:10]\n"
   ]
  },
  {
   "cell_type": "code",
   "execution_count": null,
   "metadata": {},
   "outputs": [],
   "source": []
  },
  {
   "cell_type": "code",
   "execution_count": 6,
   "metadata": {
    "colab": {
     "base_uri": "https://localhost:8080/"
    },
    "id": "TFrcRrL1KpKS",
    "outputId": "dd49b5d4-16bb-4572-a9bb-7f978133f774"
   },
   "outputs": [
    {
     "data": {
      "text/plain": [
       "['angry',\n",
       " 'angry',\n",
       " 'angry',\n",
       " 'angry',\n",
       " 'angry',\n",
       " 'angry',\n",
       " 'angry',\n",
       " 'angry',\n",
       " 'angry',\n",
       " 'angry']"
      ]
     },
     "execution_count": 6,
     "metadata": {},
     "output_type": "execute_result"
    }
   ],
   "source": [
    "# Getting their respective labels\n",
    "\n",
    "def get_label(image_path):\n",
    "  return image_path.split(\"\\\\\")[-2]\n",
    "\n",
    "train_image_labels = list(map(lambda x : get_label(x) , train_image_paths))\n",
    "train_image_labels[:10]"
   ]
  },
  {
   "cell_type": "code",
   "execution_count": 7,
   "metadata": {
    "colab": {
     "base_uri": "https://localhost:8080/"
    },
    "id": "_K-nE8KnLAdn",
    "outputId": "f3fce012-842d-4ac9-de44-31375833e9f3"
   },
   "outputs": [
    {
     "data": {
      "text/plain": [
       "array([0, 0, 0, 0, 0, 0, 0, 0, 0, 0], dtype=int64)"
      ]
     },
     "execution_count": 7,
     "metadata": {},
     "output_type": "execute_result"
    }
   ],
   "source": [
    "from sklearn.preprocessing import LabelEncoder\n",
    "\n",
    "Le = LabelEncoder()\n",
    "train_image_labels = Le.fit_transform(train_image_labels)\n",
    "\n",
    "train_image_labels[:10]"
   ]
  },
  {
   "cell_type": "code",
   "execution_count": 8,
   "metadata": {
    "colab": {
     "base_uri": "https://localhost:8080/"
    },
    "id": "l7xA65zZLAbT",
    "outputId": "97903185-6e6b-4247-a8a2-8d871877aae4"
   },
   "outputs": [
    {
     "data": {
      "text/plain": [
       "array([[1., 0., 0., 0., 0., 0., 0.],\n",
       "       [1., 0., 0., 0., 0., 0., 0.],\n",
       "       [1., 0., 0., 0., 0., 0., 0.],\n",
       "       [1., 0., 0., 0., 0., 0., 0.],\n",
       "       [1., 0., 0., 0., 0., 0., 0.],\n",
       "       [1., 0., 0., 0., 0., 0., 0.],\n",
       "       [1., 0., 0., 0., 0., 0., 0.],\n",
       "       [1., 0., 0., 0., 0., 0., 0.],\n",
       "       [1., 0., 0., 0., 0., 0., 0.],\n",
       "       [1., 0., 0., 0., 0., 0., 0.]], dtype=float32)"
      ]
     },
     "execution_count": 8,
     "metadata": {},
     "output_type": "execute_result"
    }
   ],
   "source": [
    "train_image_labels = tf.keras.utils.to_categorical(train_image_labels)\n",
    "\n",
    "train_image_labels[:10]"
   ]
  },
  {
   "cell_type": "code",
   "execution_count": 9,
   "metadata": {
    "id": "XgF06_raLAYV"
   },
   "outputs": [],
   "source": [
    "from sklearn.model_selection import train_test_split\n",
    "\n",
    "Train_paths , Val_paths , Train_labels , Val_labels = train_test_split(train_image_paths , train_image_labels , test_size = 0.25)\n"
   ]
  },
  {
   "cell_type": "code",
   "execution_count": 10,
   "metadata": {
    "colab": {
     "base_uri": "https://localhost:8080/"
    },
    "id": "HZQ2cRk0LAVk",
    "outputId": "0fbe7432-a609-46e8-cf45-daabb375c537"
   },
   "outputs": [
    {
     "name": "stdout",
     "output_type": "stream",
     "text": [
      "{0: 1.8074741, 1: 16.074184, 2: 1.7434825, 3: 1.0, 4: 1.4712113, 5: 1.4898239, 6: 2.3002124}\n"
     ]
    }
   ],
   "source": [
    "# Compute class weights\n",
    "\n",
    "classTotals = Train_labels.sum(axis=0)\n",
    "classWeight = classTotals.max() / classTotals\n",
    "\n",
    "class_weight = {e : weight for e , weight in enumerate(classWeight)}\n",
    "print(class_weight)"
   ]
  },
  {
   "cell_type": "code",
   "execution_count": 11,
   "metadata": {
    "id": "GPNnuv_GLASt"
   },
   "outputs": [],
   "source": [
    "# Function used for Transformation\n",
    "def load(image , label):\n",
    "  image = tf.io.read_file(image)\n",
    "  image = tf.io.decode_jpeg(image , channels = 3)\n",
    "  return image , label"
   ]
  },
  {
   "cell_type": "code",
   "execution_count": 12,
   "metadata": {
    "id": "HVs5to1vLAPr"
   },
   "outputs": [],
   "source": [
    "# Define IMAGE SIZE and BATCH SIZE\n",
    "IMG_SIZE = 96\n",
    "BATCH_SIZE = 32\n",
    "\n",
    "# Basic Information\n",
    "resize = tf.keras.Sequential([\n",
    "    tf.keras.layers.experimental.preprocessing.Resizing(IMG_SIZE, IMG_SIZE)\n",
    "])\n",
    "\n",
    "# Data Augmentation \n",
    "data_augmentation = tf.keras.Sequential([\n",
    "    tf.keras.layers.experimental.preprocessing.RandomFlip(\"horizontal\"),\n",
    "    tf.keras.layers.experimental.preprocessing.RandomRotation(0.2),\n",
    "    tf.keras.layers.experimental.preprocessing.RandomZoom(height_factor = (-0.1, -0.05))\n",
    "])"
   ]
  },
  {
   "cell_type": "code",
   "execution_count": 13,
   "metadata": {
    "id": "OhUXdr32Oqcd"
   },
   "outputs": [],
   "source": [
    "# Function used to Create a Tensorflow Data Object\n",
    "AUTOTUNE = tf.data.experimental.AUTOTUNE\n",
    "def get_dataset(paths, labels, train = True):\n",
    "  image_paths = tf.convert_to_tensor(paths)\n",
    "  labels = tf.convert_to_tensor(labels)\n",
    "\n",
    "  image_dataset = tf.data.Dataset.from_tensor_slices(image_paths)\n",
    "  label_dataset = tf.data.Dataset.from_tensor_slices(labels)\n",
    "\n",
    "  dataset = tf.data.Dataset.zip((image_dataset , label_dataset))\n",
    "\n",
    "  dataset = dataset.map(lambda image , label : load(image , label))\n",
    "  dataset = dataset.map(lambda image , label : (resize(image), label) , num_parallel_calls = AUTOTUNE)\n",
    "  dataset = dataset.shuffle(1000)\n",
    "  dataset = dataset.batch(BATCH_SIZE)\n",
    "\n",
    "  if train:\n",
    "    dataset = dataset.map(lambda image, label: (data_augmentation(image), label), num_parallel_calls = AUTOTUNE)\n",
    "\n",
    "  dataset = dataset.repeat()\n",
    "  return dataset"
   ]
  },
  {
   "cell_type": "code",
   "execution_count": 14,
   "metadata": {
    "colab": {
     "base_uri": "https://localhost:8080/"
    },
    "id": "eDIoO6GAOqZd",
    "outputId": "2f7e800e-88fa-48a5-b817-8dc7f74c200f"
   },
   "outputs": [
    {
     "name": "stdout",
     "output_type": "stream",
     "text": [
      "Wall time: 733 ms\n",
      "(32, 96, 96, 3)\n",
      "(32, 7)\n"
     ]
    }
   ],
   "source": [
    "# Creating Train Dataset object and Verifying it\n",
    "%time train_dataset = get_dataset(Train_paths , Train_labels)\n",
    "\n",
    "image , label = next(iter(train_dataset))\n",
    "print(image.shape)\n",
    "print(label.shape)"
   ]
  },
  {
   "cell_type": "code",
   "execution_count": 15,
   "metadata": {
    "colab": {
     "base_uri": "https://localhost:8080/",
     "height": 468
    },
    "id": "w_yqbPbtOqOd",
    "outputId": "80148979-250d-4325-8832-62fbcabd5f2c"
   },
   "outputs": [
    {
     "name": "stdout",
     "output_type": "stream",
     "text": [
      "happy\n"
     ]
    },
    {
     "data": {
      "text/plain": [
       "<matplotlib.image.AxesImage at 0x14d27f354c0>"
      ]
     },
     "execution_count": 15,
     "metadata": {},
     "output_type": "execute_result"
    },
    {
     "data": {
      "image/png": "[encoded data removed]",
      "text/plain": [
       "<Figure size 640x480 with 1 Axes>"
      ]
     },
     "metadata": {},
     "output_type": "display_data"
    }
   ],
   "source": [
    "# View a sample Training Image\n",
    "print(Le.inverse_transform(np.argmax(label , axis = 1))[0])\n",
    "plt.imshow((image[0].numpy()/255).reshape(96 , 96 , 3))"
   ]
  },
  {
   "cell_type": "code",
   "execution_count": 16,
   "metadata": {
    "colab": {
     "base_uri": "https://localhost:8080/"
    },
    "id": "0KmITjz7Qwuk",
    "outputId": "4082879a-dc86-4808-d975-1b6eff3ca4e5"
   },
   "outputs": [
    {
     "name": "stdout",
     "output_type": "stream",
     "text": [
      "Wall time: 44.9 ms\n",
      "(32, 96, 96, 3)\n",
      "(32, 7)\n"
     ]
    }
   ],
   "source": [
    "%time val_dataset = get_dataset(Val_paths , Val_labels , train = False)\n",
    "\n",
    "image , label = next(iter(val_dataset))\n",
    "print(image.shape)\n",
    "print(label.shape)"
   ]
  },
  {
   "cell_type": "code",
   "execution_count": 17,
   "metadata": {
    "colab": {
     "base_uri": "https://localhost:8080/"
    },
    "id": "wlz9AmitQwfz",
    "outputId": "f53df675-6139-41c3-facd-bfeb71ba5e0c"
   },
   "outputs": [
    {
     "name": "stdout",
     "output_type": "stream",
     "text": [
      "Downloading data from https://storage.googleapis.com/keras-applications/efficientnetb2_notop.h5\n",
      "31790344/31790344 [==============================] - 29s 1us/step\n",
      "Model: \"sequential_2\"\n",
      "_________________________________________________________________\n",
      " Layer (type)                Output Shape              Param #   \n",
      "=================================================================\n",
      " efficientnetb2 (Functional)  (None, 3, 3, 1408)       7768569   \n",
      "                                                                 \n",
      " global_average_pooling2d (G  (None, 1408)             0         \n",
      " lobalAveragePooling2D)                                          \n",
      "                                                                 \n",
      " dropout (Dropout)           (None, 1408)              0         \n",
      "                                                                 \n",
      " dense (Dense)               (None, 128)               180352    \n",
      "                                                                 \n",
      " dense_1 (Dense)             (None, 7)                 903       \n",
      "                                                                 \n",
      "=================================================================\n",
      "Total params: 7,949,824\n",
      "Trainable params: 7,882,249\n",
      "Non-trainable params: 67,575\n",
      "_________________________________________________________________\n"
     ]
    }
   ],
   "source": [
    "# Building EfficientNet model\n",
    "from tensorflow.keras.applications import EfficientNetB2\n",
    "\n",
    "backbone = EfficientNetB2(\n",
    "    input_shape=(96,96,3),\n",
    "    include_top=False\n",
    ")\n",
    "\n",
    "model = tf.keras.Sequential([\n",
    "    backbone,\n",
    "    tf.keras.layers.GlobalAveragePooling2D(),\n",
    "    tf.keras.layers.Dropout(0.3),\n",
    "    tf.keras.layers.Dense(128, activation='relu'),\n",
    "    tf.keras.layers.Dense(7, activation ='softmax')\n",
    "])\n",
    "\n",
    "model.summary()"
   ]
  },
  {
   "cell_type": "code",
   "execution_count": 18,
   "metadata": {
    "id": "zV90pYvZS3r0"
   },
   "outputs": [],
   "source": [
    "# Compiling our model by providing the Optimizer , Loss and Metrics\n",
    "model.compile(\n",
    "    optimizer = tf.keras.optimizers.Adam(learning_rate=0.001, beta_1=0.9, beta_2=0.999, epsilon=1e-07),\n",
    "    loss = 'categorical_crossentropy',\n",
    "    metrics=['accuracy' , tf.keras.metrics.Precision(name='precision'),tf.keras.metrics.Recall(name='recall')]\n",
    ")"
   ]
  },
  {
   "cell_type": "code",
   "execution_count": 19,
   "metadata": {
    "colab": {
     "base_uri": "https://localhost:8080/"
    },
    "id": "UOslGvm5QwPh",
    "outputId": "5db96281-a024-4504-ba88-cac81b3cca23"
   },
   "outputs": [
    {
     "name": "stdout",
     "output_type": "stream",
     "text": [
      "Epoch 1/12\n",
      "672/672 [==============================] - 1104s 2s/step - loss: 3.0211 - accuracy: 0.3466 - precision: 0.6254 - recall: 0.1226 - val_loss: 1.4238 - val_accuracy: 0.4858 - val_precision: 0.7915 - val_recall: 0.2267\n",
      "Epoch 2/12\n",
      "672/672 [==============================] - 1160s 2s/step - loss: 2.5669 - accuracy: 0.4563 - precision: 0.6946 - recall: 0.2343 - val_loss: 1.2674 - val_accuracy: 0.5124 - val_precision: 0.7755 - val_recall: 0.2800\n",
      "Epoch 3/12\n",
      "672/672 [==============================] - 1113s 2s/step - loss: 2.3984 - accuracy: 0.4844 - precision: 0.6908 - recall: 0.2695 - val_loss: 1.2910 - val_accuracy: 0.5184 - val_precision: 0.7106 - val_recall: 0.3165\n",
      "Epoch 4/12\n",
      "672/672 [==============================] - 1111s 2s/step - loss: 2.3210 - accuracy: 0.5032 - precision: 0.7003 - recall: 0.2958 - val_loss: 1.2636 - val_accuracy: 0.5321 - val_precision: 0.7411 - val_recall: 0.3206\n",
      "Epoch 5/12\n",
      "672/672 [==============================] - 1102s 2s/step - loss: 2.2124 - accuracy: 0.5211 - precision: 0.7062 - recall: 0.3270 - val_loss: 1.2122 - val_accuracy: 0.5420 - val_precision: 0.6860 - val_recall: 0.3947\n",
      "Epoch 6/12\n",
      "672/672 [==============================] - 1095s 2s/step - loss: 2.1924 - accuracy: 0.5250 - precision: 0.7034 - recall: 0.3345 - val_loss: 1.1992 - val_accuracy: 0.5413 - val_precision: 0.6876 - val_recall: 0.4100\n",
      "Epoch 7/12\n",
      "672/672 [==============================] - 1103s 2s/step - loss: 2.1169 - accuracy: 0.5349 - precision: 0.7142 - recall: 0.3527 - val_loss: 1.2129 - val_accuracy: 0.5306 - val_precision: 0.7158 - val_recall: 0.3771\n",
      "Epoch 8/12\n",
      "672/672 [==============================] - 1113s 2s/step - loss: 2.0703 - accuracy: 0.5470 - precision: 0.7083 - recall: 0.3741 - val_loss: 1.2309 - val_accuracy: 0.5257 - val_precision: 0.6794 - val_recall: 0.3832\n",
      "Epoch 9/12\n",
      "672/672 [==============================] - 1149s 2s/step - loss: 2.0335 - accuracy: 0.5485 - precision: 0.7153 - recall: 0.3704 - val_loss: 1.1428 - val_accuracy: 0.5589 - val_precision: 0.7190 - val_recall: 0.4005\n",
      "Epoch 10/12\n",
      "672/672 [==============================] - 1130s 2s/step - loss: 2.0032 - accuracy: 0.5572 - precision: 0.7178 - recall: 0.3833 - val_loss: 1.1325 - val_accuracy: 0.5730 - val_precision: 0.7210 - val_recall: 0.4064\n",
      "Epoch 11/12\n",
      "672/672 [==============================] - 1090s 2s/step - loss: 1.9895 - accuracy: 0.5650 - precision: 0.7150 - recall: 0.3913 - val_loss: 1.2754 - val_accuracy: 0.5246 - val_precision: 0.6652 - val_recall: 0.3747\n",
      "Epoch 12/12\n",
      "672/672 [==============================] - 1053s 2s/step - loss: 1.9177 - accuracy: 0.5766 - precision: 0.7222 - recall: 0.4113 - val_loss: 1.1855 - val_accuracy: 0.5575 - val_precision: 0.6564 - val_recall: 0.4547\n"
     ]
    }
   ],
   "source": [
    "# Train the model - Phase 1\n",
    "history = model.fit(\n",
    "    train_dataset,\n",
    "    steps_per_epoch=len(Train_paths)//BATCH_SIZE,\n",
    "    epochs=12,\n",
    "    validation_data = val_dataset,\n",
    "    validation_steps = len(Val_paths)//BATCH_SIZE,\n",
    "    class_weight=class_weight\n",
    ")"
   ]
  },
  {
   "cell_type": "code",
   "execution_count": 20,
   "metadata": {
    "id": "cNbMCw6kT1wf"
   },
   "outputs": [],
   "source": [
    "model.layers[0].trainable = False"
   ]
  },
  {
   "cell_type": "code",
   "execution_count": 21,
   "metadata": {
    "id": "s_oFIk-3T1rL"
   },
   "outputs": [],
   "source": [
    "# Define the callbacks\n",
    "checkpoint = tf.keras.callbacks.ModelCheckpoint(\"best_weights.h5\",verbose=1,save_best_only=True,save_weights_only=True)\n",
    "early_stop = tf.keras.callbacks.EarlyStopping(patience=4)"
   ]
  },
  {
   "cell_type": "code",
   "execution_count": 22,
   "metadata": {
    "id": "Y53VVQ2iT1k2"
   },
   "outputs": [
    {
     "name": "stdout",
     "output_type": "stream",
     "text": [
      "Model: \"sequential_2\"\n",
      "_________________________________________________________________\n",
      " Layer (type)                Output Shape              Param #   \n",
      "=================================================================\n",
      " efficientnetb2 (Functional)  (None, 3, 3, 1408)       7768569   \n",
      "                                                                 \n",
      " global_average_pooling2d (G  (None, 1408)             0         \n",
      " lobalAveragePooling2D)                                          \n",
      "                                                                 \n",
      " dropout (Dropout)           (None, 1408)              0         \n",
      "                                                                 \n",
      " dense (Dense)               (None, 128)               180352    \n",
      "                                                                 \n",
      " dense_1 (Dense)             (None, 7)                 903       \n",
      "                                                                 \n",
      "=================================================================\n",
      "Total params: 7,949,824\n",
      "Trainable params: 181,255\n",
      "Non-trainable params: 7,768,569\n",
      "_________________________________________________________________\n"
     ]
    }
   ],
   "source": [
    "model.summary()"
   ]
  },
  {
   "cell_type": "code",
   "execution_count": 23,
   "metadata": {
    "id": "jRpv4aHiQv_f"
   },
   "outputs": [
    {
     "name": "stdout",
     "output_type": "stream",
     "text": [
      "Epoch 1/8\n",
      "672/672 [==============================] - ETA: 0s - loss: 1.9168 - accuracy: 0.5747 - precision: 0.7242 - recall: 0.4107\n",
      "Epoch 1: val_loss improved from inf to 1.19014, saving model to best_weights.h5\n",
      "672/672 [==============================] - 924s 1s/step - loss: 1.9168 - accuracy: 0.5747 - precision: 0.7242 - recall: 0.4107 - val_loss: 1.1901 - val_accuracy: 0.5607 - val_precision: 0.6990 - val_recall: 0.4156\n",
      "Epoch 2/8\n",
      "672/672 [==============================] - ETA: 0s - loss: 1.8248 - accuracy: 0.5944 - precision: 0.7399 - recall: 0.4442\n",
      "Epoch 2: val_loss did not improve from 1.19014\n",
      "672/672 [==============================] - 970s 1s/step - loss: 1.8248 - accuracy: 0.5944 - precision: 0.7399 - recall: 0.4442 - val_loss: 1.2143 - val_accuracy: 0.5526 - val_precision: 0.6873 - val_recall: 0.3952\n",
      "Epoch 3/8\n",
      "672/672 [==============================] - ETA: 0s - loss: 1.7951 - accuracy: 0.6016 - precision: 0.7398 - recall: 0.4453\n",
      "Epoch 3: val_loss improved from 1.19014 to 1.11458, saving model to best_weights.h5\n",
      "672/672 [==============================] - 965s 1s/step - loss: 1.7951 - accuracy: 0.6016 - precision: 0.7398 - recall: 0.4453 - val_loss: 1.1146 - val_accuracy: 0.5855 - val_precision: 0.6721 - val_recall: 0.4908\n",
      "Epoch 4/8\n",
      "672/672 [==============================] - ETA: 0s - loss: 1.7843 - accuracy: 0.6026 - precision: 0.7310 - recall: 0.4542\n",
      "Epoch 4: val_loss did not improve from 1.11458\n",
      "672/672 [==============================] - 1039s 2s/step - loss: 1.7843 - accuracy: 0.6026 - precision: 0.7310 - recall: 0.4542 - val_loss: 1.1453 - val_accuracy: 0.5695 - val_precision: 0.6855 - val_recall: 0.4459\n",
      "Epoch 5/8\n",
      "672/672 [==============================] - ETA: 0s - loss: 1.7672 - accuracy: 0.6027 - precision: 0.7327 - recall: 0.4509\n",
      "Epoch 5: val_loss did not improve from 1.11458\n",
      "672/672 [==============================] - 1033s 2s/step - loss: 1.7672 - accuracy: 0.6027 - precision: 0.7327 - recall: 0.4509 - val_loss: 1.1417 - val_accuracy: 0.5771 - val_precision: 0.7032 - val_recall: 0.4311\n",
      "Epoch 6/8\n",
      "672/672 [==============================] - ETA: 0s - loss: 1.7202 - accuracy: 0.6122 - precision: 0.7439 - recall: 0.4700\n",
      "Epoch 6: val_loss improved from 1.11458 to 1.08613, saving model to best_weights.h5\n",
      "672/672 [==============================] - 1020s 2s/step - loss: 1.7202 - accuracy: 0.6122 - precision: 0.7439 - recall: 0.4700 - val_loss: 1.0861 - val_accuracy: 0.5935 - val_precision: 0.7084 - val_recall: 0.4678\n",
      "Epoch 7/8\n",
      "672/672 [==============================] - ETA: 0s - loss: 1.6879 - accuracy: 0.6194 - precision: 0.7424 - recall: 0.4830\n",
      "Epoch 7: val_loss did not improve from 1.08613\n",
      "672/672 [==============================] - 1009s 2s/step - loss: 1.6879 - accuracy: 0.6194 - precision: 0.7424 - recall: 0.4830 - val_loss: 1.0928 - val_accuracy: 0.5857 - val_precision: 0.7011 - val_recall: 0.4794\n",
      "Epoch 8/8\n",
      "672/672 [==============================] - ETA: 0s - loss: 1.7024 - accuracy: 0.6142 - precision: 0.7413 - recall: 0.4753\n",
      "Epoch 8: val_loss did not improve from 1.08613\n",
      "672/672 [==============================] - 973s 1s/step - loss: 1.7024 - accuracy: 0.6142 - precision: 0.7413 - recall: 0.4753 - val_loss: 1.0998 - val_accuracy: 0.6052 - val_precision: 0.6930 - val_recall: 0.5130\n"
     ]
    }
   ],
   "source": [
    "# Train the model - Phase 2\n",
    "h1 = model.fit(\n",
    "    train_dataset,\n",
    "    steps_per_epoch=len(Train_paths)//BATCH_SIZE,\n",
    "    epochs=8,\n",
    "    callbacks=[checkpoint , early_stop],\n",
    "    validation_data = val_dataset,\n",
    "    validation_steps = len(Val_paths)//BATCH_SIZE,\n",
    "    class_weight=class_weight\n",
    ")"
   ]
  },
  {
   "cell_type": "code",
   "execution_count": 25,
   "metadata": {
    "id": "OCFr4A4uSraJ"
   },
   "outputs": [
    {
     "data": {
      "text/html": [
       "<div>\n",
       "<style scoped>\n",
       "    .dataframe tbody tr th:only-of-type {\n",
       "        vertical-align: middle;\n",
       "    }\n",
       "\n",
       "    .dataframe tbody tr th {\n",
       "        vertical-align: top;\n",
       "    }\n",
       "\n",
       "    .dataframe thead th {\n",
       "        text-align: right;\n",
       "    }\n",
       "</style>\n",
       "<table border=\"1\" class=\"dataframe\">\n",
       "  <thead>\n",
       "    <tr style=\"text-align: right;\">\n",
       "      <th></th>\n",
       "      <th>loss</th>\n",
       "      <th>accuracy</th>\n",
       "      <th>precision</th>\n",
       "      <th>recall</th>\n",
       "      <th>val_loss</th>\n",
       "      <th>val_accuracy</th>\n",
       "      <th>val_precision</th>\n",
       "      <th>val_recall</th>\n",
       "      <th>Epochs</th>\n",
       "    </tr>\n",
       "  </thead>\n",
       "  <tbody>\n",
       "    <tr>\n",
       "      <th>3</th>\n",
       "      <td>1.784302</td>\n",
       "      <td>0.602633</td>\n",
       "      <td>0.731002</td>\n",
       "      <td>0.454161</td>\n",
       "      <td>1.145278</td>\n",
       "      <td>0.569475</td>\n",
       "      <td>0.685543</td>\n",
       "      <td>0.445871</td>\n",
       "      <td>3</td>\n",
       "    </tr>\n",
       "    <tr>\n",
       "      <th>4</th>\n",
       "      <td>1.767205</td>\n",
       "      <td>0.602726</td>\n",
       "      <td>0.732673</td>\n",
       "      <td>0.450905</td>\n",
       "      <td>1.141661</td>\n",
       "      <td>0.577148</td>\n",
       "      <td>0.703232</td>\n",
       "      <td>0.431083</td>\n",
       "      <td>4</td>\n",
       "    </tr>\n",
       "    <tr>\n",
       "      <th>5</th>\n",
       "      <td>1.720171</td>\n",
       "      <td>0.612168</td>\n",
       "      <td>0.743926</td>\n",
       "      <td>0.469975</td>\n",
       "      <td>1.086129</td>\n",
       "      <td>0.593471</td>\n",
       "      <td>0.708430</td>\n",
       "      <td>0.467773</td>\n",
       "      <td>5</td>\n",
       "    </tr>\n",
       "    <tr>\n",
       "      <th>6</th>\n",
       "      <td>1.687903</td>\n",
       "      <td>0.619378</td>\n",
       "      <td>0.742438</td>\n",
       "      <td>0.482953</td>\n",
       "      <td>1.092772</td>\n",
       "      <td>0.585658</td>\n",
       "      <td>0.701081</td>\n",
       "      <td>0.479353</td>\n",
       "      <td>6</td>\n",
       "    </tr>\n",
       "    <tr>\n",
       "      <th>7</th>\n",
       "      <td>1.702393</td>\n",
       "      <td>0.614168</td>\n",
       "      <td>0.741348</td>\n",
       "      <td>0.475278</td>\n",
       "      <td>1.099819</td>\n",
       "      <td>0.605190</td>\n",
       "      <td>0.692989</td>\n",
       "      <td>0.512974</td>\n",
       "      <td>7</td>\n",
       "    </tr>\n",
       "  </tbody>\n",
       "</table>\n",
       "</div>"
      ],
      "text/plain": [
       "       loss  accuracy  precision    recall  val_loss  val_accuracy  \\\n",
       "3  1.784302  0.602633   0.731002  0.454161  1.145278      0.569475   \n",
       "4  1.767205  0.602726   0.732673  0.450905  1.141661      0.577148   \n",
       "5  1.720171  0.612168   0.743926  0.469975  1.086129      0.593471   \n",
       "6  1.687903  0.619378   0.742438  0.482953  1.092772      0.585658   \n",
       "7  1.702393  0.614168   0.741348  0.475278  1.099819      0.605190   \n",
       "\n",
       "   val_precision  val_recall  Epochs  \n",
       "3       0.685543    0.445871       3  \n",
       "4       0.703232    0.431083       4  \n",
       "5       0.708430    0.467773       5  \n",
       "6       0.701081    0.479353       6  \n",
       "7       0.692989    0.512974       7  "
      ]
     },
     "execution_count": 25,
     "metadata": {},
     "output_type": "execute_result"
    }
   ],
   "source": [
    "import pandas as pd\n",
    "\n",
    "r1 = pd.DataFrame(h1.history)\n",
    "r1['Epochs'] = h1.epoch\n",
    "r1.tail()"
   ]
  },
  {
   "cell_type": "code",
   "execution_count": 26,
   "metadata": {
    "id": "JEqjlxMjS1up"
   },
   "outputs": [
    {
     "data": {
      "image/png": "[encoded data removed]",
      "text/plain": [
       "<Figure size 1200x500 with 2 Axes>"
      ]
     },
     "metadata": {},
     "output_type": "display_data"
    }
   ],
   "source": [
    "plt.figure(figsize=(12,5))\n",
    "plt.subplot(1,2,1)\n",
    "plt.plot(r1['Epochs'],r1['loss'],label='Training Loss')\n",
    "plt.plot(r1['Epochs'],r1['val_loss'],label='Testing Loss')\n",
    "plt.xlabel('Epochs')\n",
    "plt.ylabel('Loss')\n",
    "plt.title('Epochs vs Loss')\n",
    "plt.grid()\n",
    "plt.legend()\n",
    "\n",
    "plt.subplot(1,2,2)\n",
    "plt.plot(r1['Epochs'],r1['accuracy'],label='Training accuracy')\n",
    "plt.plot(r1['Epochs'],r1['val_accuracy'],label='Testing accuracy')\n",
    "plt.xlabel('Epochs')\n",
    "plt.ylabel('accuracy')\n",
    "plt.title('Epochs vs accuracy')\n",
    "plt.grid()\n",
    "plt.legend()\n",
    "\n",
    "plt.savefig(\"abc.png\")\n",
    "plt.show()"
   ]
  },
  {
   "cell_type": "code",
   "execution_count": 29,
   "metadata": {
    "id": "Q_-VKzuFU8UG"
   },
   "outputs": [],
   "source": [
    "model.trainable = True\n",
    "model.load_weights(\"best_weights.h5\")"
   ]
  },
  {
   "cell_type": "code",
   "execution_count": 30,
   "metadata": {
    "id": "vBud-NtGU8JV"
   },
   "outputs": [],
   "source": [
    "# Create a Dataset Object for 'Testing' Set just the way we did for Training and Validation\n",
    "test_image_paths = list(test_path.glob(\"*/*\"))\n",
    "test_image_paths = list(map(lambda x : str(x) , test_image_paths))\n",
    "test_labels = list(map(lambda x : get_label(x) , test_image_paths))\n",
    "\n",
    "test_labels = Le.transform(test_labels)\n",
    "test_labels = tf.keras.utils.to_categorical(test_labels)\n",
    "\n",
    "test_image_paths = tf.convert_to_tensor(test_image_paths)\n",
    "test_labels = tf.convert_to_tensor(test_labels)\n",
    "\n",
    "def decode_image(image , label):\n",
    "  image = tf.io.read_file(image)\n",
    "  image = tf.io.decode_jpeg(image , channels = 3)\n",
    "  image = tf.image.resize(image , [96 , 96] , method=\"bilinear\")\n",
    "  return image , label\n",
    "\n",
    "test_dataset = (\n",
    "    tf.data.Dataset\n",
    "    .from_tensor_slices((test_image_paths, test_labels))\n",
    "    .map(decode_image)\n",
    "    .batch(BATCH_SIZE)\n",
    ")"
   ]
  },
  {
   "cell_type": "code",
   "execution_count": 31,
   "metadata": {
    "id": "MZEOHmHbU8E2"
   },
   "outputs": [
    {
     "name": "stdout",
     "output_type": "stream",
     "text": [
      "(32, 96, 96, 3)\n",
      "(32, 7)\n"
     ]
    }
   ],
   "source": [
    "# Verify Test Dataset Object\n",
    "image , label = next(iter(test_dataset))\n",
    "print(image.shape)\n",
    "print(label.shape)"
   ]
  },
  {
   "cell_type": "code",
   "execution_count": 32,
   "metadata": {
    "id": "0m1LL4AOU8BT"
   },
   "outputs": [
    {
     "name": "stdout",
     "output_type": "stream",
     "text": [
      "angry\n"
     ]
    },
    {
     "data": {
      "text/plain": [
       "<matplotlib.image.AxesImage at 0x14d2bde46a0>"
      ]
     },
     "execution_count": 32,
     "metadata": {},
     "output_type": "execute_result"
    },
    {
     "data": {
      "image/png": "[encoded data removed]",
      "text/plain": [
       "<Figure size 640x480 with 1 Axes>"
      ]
     },
     "metadata": {},
     "output_type": "display_data"
    }
   ],
   "source": [
    "# View a sample Validation Image\n",
    "print(Le.inverse_transform(np.argmax(label , axis = 1))[0])\n",
    "plt.imshow((image[0].numpy()/255).reshape(96 , 96 , 3))"
   ]
  },
  {
   "cell_type": "code",
   "execution_count": 41,
   "metadata": {
    "id": "7AdulJumU783"
   },
   "outputs": [
    {
     "name": "stdout",
     "output_type": "stream",
     "text": [
      "225/225 [==============================] - 61s 271ms/step - loss: 1.0930 - accuracy: 0.5938 - precision: 0.7002 - recall: 0.4631\n",
      " Testing Acc :  0.5937587022781372\n",
      " Testing Precision  0.7002317309379578\n",
      " Testing Recall  0.46308162808418274\n"
     ]
    }
   ],
   "source": [
    "# Evaluating the loaded model\n",
    "loss, acc, prec, rec = model.evaluate(test_dataset)\n",
    "\n",
    "print(\" Testing Acc : \", acc)\n",
    "print(\" Testing Precision \", prec)\n",
    "print(\" Testing Recall \", rec)"
   ]
  },
  {
   "cell_type": "code",
   "execution_count": 43,
   "metadata": {},
   "outputs": [],
   "source": [
    "import pickle\n",
    "filename =\"FacialExpressionModel.h5\"\n",
    "pickle.dump(model,open(filename,\"wb\"))"
   ]
  },
  {
   "cell_type": "code",
   "execution_count": 40,
   "metadata": {
    "collapsed": true
   },
   "outputs": [
    {
     "ename": "TypeError",
     "evalue": "Unable to serialize [2.0896919 2.1128857 2.1081853] to JSON. Unrecognized type <class 'tensorflow.python.framework.ops.EagerTensor'>.",
     "output_type": "error",
     "traceback": [
      "\u001b[1;31m---------------------------------------------------------------------------\u001b[0m",
      "\u001b[1;31mTypeError\u001b[0m                                 Traceback (most recent call last)",
      "\u001b[1;32m~\\AppData\\Local\\Temp\\ipykernel_8512\\4010924121.py\u001b[0m in \u001b[0;36m<module>\u001b[1;34m\u001b[0m\n\u001b[0;32m      1\u001b[0m \u001b[1;32mfrom\u001b[0m \u001b[0mtensorflow\u001b[0m\u001b[1;33m.\u001b[0m\u001b[0mkeras\u001b[0m\u001b[1;33m.\u001b[0m\u001b[0mmodels\u001b[0m \u001b[1;32mimport\u001b[0m \u001b[0msave_model\u001b[0m\u001b[1;33m\u001b[0m\u001b[1;33m\u001b[0m\u001b[0m\n\u001b[0;32m      2\u001b[0m \u001b[1;33m\u001b[0m\u001b[0m\n\u001b[1;32m----> 3\u001b[1;33m \u001b[0msave_model\u001b[0m\u001b[1;33m(\u001b[0m\u001b[0mmodel\u001b[0m\u001b[1;33m,\u001b[0m\u001b[1;34m\"FacialExpressionModel.h5\"\u001b[0m\u001b[1;33m)\u001b[0m\u001b[1;33m\u001b[0m\u001b[1;33m\u001b[0m\u001b[0m\n\u001b[0m",
      "\u001b[1;32m~\\AppData\\Roaming\\Python\\Python39\\site-packages\\keras\\saving\\saving_api.py\u001b[0m in \u001b[0;36msave_model\u001b[1;34m(model, filepath, overwrite, save_format, **kwargs)\u001b[0m\n\u001b[0;32m    143\u001b[0m     \u001b[1;32melse\u001b[0m\u001b[1;33m:\u001b[0m\u001b[1;33m\u001b[0m\u001b[1;33m\u001b[0m\u001b[0m\n\u001b[0;32m    144\u001b[0m         \u001b[1;31m# Legacy case\u001b[0m\u001b[1;33m\u001b[0m\u001b[1;33m\u001b[0m\u001b[0m\n\u001b[1;32m--> 145\u001b[1;33m         return legacy_sm_saving_lib.save_model(\n\u001b[0m\u001b[0;32m    146\u001b[0m             \u001b[0mmodel\u001b[0m\u001b[1;33m,\u001b[0m\u001b[1;33m\u001b[0m\u001b[1;33m\u001b[0m\u001b[0m\n\u001b[0;32m    147\u001b[0m             \u001b[0mfilepath\u001b[0m\u001b[1;33m,\u001b[0m\u001b[1;33m\u001b[0m\u001b[1;33m\u001b[0m\u001b[0m\n",
      "\u001b[1;32m~\\AppData\\Roaming\\Python\\Python39\\site-packages\\keras\\utils\\traceback_utils.py\u001b[0m in \u001b[0;36merror_handler\u001b[1;34m(*args, **kwargs)\u001b[0m\n\u001b[0;32m     68\u001b[0m             \u001b[1;31m# To get the full stack trace, call:\u001b[0m\u001b[1;33m\u001b[0m\u001b[1;33m\u001b[0m\u001b[0m\n\u001b[0;32m     69\u001b[0m             \u001b[1;31m# `tf.debugging.disable_traceback_filtering()`\u001b[0m\u001b[1;33m\u001b[0m\u001b[1;33m\u001b[0m\u001b[0m\n\u001b[1;32m---> 70\u001b[1;33m             \u001b[1;32mraise\u001b[0m \u001b[0me\u001b[0m\u001b[1;33m.\u001b[0m\u001b[0mwith_traceback\u001b[0m\u001b[1;33m(\u001b[0m\u001b[0mfiltered_tb\u001b[0m\u001b[1;33m)\u001b[0m \u001b[1;32mfrom\u001b[0m \u001b[1;32mNone\u001b[0m\u001b[1;33m\u001b[0m\u001b[1;33m\u001b[0m\u001b[0m\n\u001b[0m\u001b[0;32m     71\u001b[0m         \u001b[1;32mfinally\u001b[0m\u001b[1;33m:\u001b[0m\u001b[1;33m\u001b[0m\u001b[1;33m\u001b[0m\u001b[0m\n\u001b[0;32m     72\u001b[0m             \u001b[1;32mdel\u001b[0m \u001b[0mfiltered_tb\u001b[0m\u001b[1;33m\u001b[0m\u001b[1;33m\u001b[0m\u001b[0m\n",
      "\u001b[1;32mC:\\ProgramData\\Anaconda3\\lib\\json\\__init__.py\u001b[0m in \u001b[0;36mdumps\u001b[1;34m(obj, skipkeys, ensure_ascii, check_circular, allow_nan, cls, indent, separators, default, sort_keys, **kw)\u001b[0m\n\u001b[0;32m    232\u001b[0m     \u001b[1;32mif\u001b[0m \u001b[0mcls\u001b[0m \u001b[1;32mis\u001b[0m \u001b[1;32mNone\u001b[0m\u001b[1;33m:\u001b[0m\u001b[1;33m\u001b[0m\u001b[1;33m\u001b[0m\u001b[0m\n\u001b[0;32m    233\u001b[0m         \u001b[0mcls\u001b[0m \u001b[1;33m=\u001b[0m \u001b[0mJSONEncoder\u001b[0m\u001b[1;33m\u001b[0m\u001b[1;33m\u001b[0m\u001b[0m\n\u001b[1;32m--> 234\u001b[1;33m     return cls(\n\u001b[0m\u001b[0;32m    235\u001b[0m         \u001b[0mskipkeys\u001b[0m\u001b[1;33m=\u001b[0m\u001b[0mskipkeys\u001b[0m\u001b[1;33m,\u001b[0m \u001b[0mensure_ascii\u001b[0m\u001b[1;33m=\u001b[0m\u001b[0mensure_ascii\u001b[0m\u001b[1;33m,\u001b[0m\u001b[1;33m\u001b[0m\u001b[1;33m\u001b[0m\u001b[0m\n\u001b[0;32m    236\u001b[0m         \u001b[0mcheck_circular\u001b[0m\u001b[1;33m=\u001b[0m\u001b[0mcheck_circular\u001b[0m\u001b[1;33m,\u001b[0m \u001b[0mallow_nan\u001b[0m\u001b[1;33m=\u001b[0m\u001b[0mallow_nan\u001b[0m\u001b[1;33m,\u001b[0m \u001b[0mindent\u001b[0m\u001b[1;33m=\u001b[0m\u001b[0mindent\u001b[0m\u001b[1;33m,\u001b[0m\u001b[1;33m\u001b[0m\u001b[1;33m\u001b[0m\u001b[0m\n",
      "\u001b[1;32mC:\\ProgramData\\Anaconda3\\lib\\json\\encoder.py\u001b[0m in \u001b[0;36mencode\u001b[1;34m(self, o)\u001b[0m\n\u001b[0;32m    197\u001b[0m         \u001b[1;31m# exceptions aren't as detailed.  The list call should be roughly\u001b[0m\u001b[1;33m\u001b[0m\u001b[1;33m\u001b[0m\u001b[0m\n\u001b[0;32m    198\u001b[0m         \u001b[1;31m# equivalent to the PySequence_Fast that ''.join() would do.\u001b[0m\u001b[1;33m\u001b[0m\u001b[1;33m\u001b[0m\u001b[0m\n\u001b[1;32m--> 199\u001b[1;33m         \u001b[0mchunks\u001b[0m \u001b[1;33m=\u001b[0m \u001b[0mself\u001b[0m\u001b[1;33m.\u001b[0m\u001b[0miterencode\u001b[0m\u001b[1;33m(\u001b[0m\u001b[0mo\u001b[0m\u001b[1;33m,\u001b[0m \u001b[0m_one_shot\u001b[0m\u001b[1;33m=\u001b[0m\u001b[1;32mTrue\u001b[0m\u001b[1;33m)\u001b[0m\u001b[1;33m\u001b[0m\u001b[1;33m\u001b[0m\u001b[0m\n\u001b[0m\u001b[0;32m    200\u001b[0m         \u001b[1;32mif\u001b[0m \u001b[1;32mnot\u001b[0m \u001b[0misinstance\u001b[0m\u001b[1;33m(\u001b[0m\u001b[0mchunks\u001b[0m\u001b[1;33m,\u001b[0m \u001b[1;33m(\u001b[0m\u001b[0mlist\u001b[0m\u001b[1;33m,\u001b[0m \u001b[0mtuple\u001b[0m\u001b[1;33m)\u001b[0m\u001b[1;33m)\u001b[0m\u001b[1;33m:\u001b[0m\u001b[1;33m\u001b[0m\u001b[1;33m\u001b[0m\u001b[0m\n\u001b[0;32m    201\u001b[0m             \u001b[0mchunks\u001b[0m \u001b[1;33m=\u001b[0m \u001b[0mlist\u001b[0m\u001b[1;33m(\u001b[0m\u001b[0mchunks\u001b[0m\u001b[1;33m)\u001b[0m\u001b[1;33m\u001b[0m\u001b[1;33m\u001b[0m\u001b[0m\n",
      "\u001b[1;32mC:\\ProgramData\\Anaconda3\\lib\\json\\encoder.py\u001b[0m in \u001b[0;36miterencode\u001b[1;34m(self, o, _one_shot)\u001b[0m\n\u001b[0;32m    255\u001b[0m                 \u001b[0mself\u001b[0m\u001b[1;33m.\u001b[0m\u001b[0mkey_separator\u001b[0m\u001b[1;33m,\u001b[0m \u001b[0mself\u001b[0m\u001b[1;33m.\u001b[0m\u001b[0mitem_separator\u001b[0m\u001b[1;33m,\u001b[0m \u001b[0mself\u001b[0m\u001b[1;33m.\u001b[0m\u001b[0msort_keys\u001b[0m\u001b[1;33m,\u001b[0m\u001b[1;33m\u001b[0m\u001b[1;33m\u001b[0m\u001b[0m\n\u001b[0;32m    256\u001b[0m                 self.skipkeys, _one_shot)\n\u001b[1;32m--> 257\u001b[1;33m         \u001b[1;32mreturn\u001b[0m \u001b[0m_iterencode\u001b[0m\u001b[1;33m(\u001b[0m\u001b[0mo\u001b[0m\u001b[1;33m,\u001b[0m \u001b[1;36m0\u001b[0m\u001b[1;33m)\u001b[0m\u001b[1;33m\u001b[0m\u001b[1;33m\u001b[0m\u001b[0m\n\u001b[0m\u001b[0;32m    258\u001b[0m \u001b[1;33m\u001b[0m\u001b[0m\n\u001b[0;32m    259\u001b[0m def _make_iterencode(markers, _default, _encoder, _indent, _floatstr,\n",
      "\u001b[1;31mTypeError\u001b[0m: Unable to serialize [2.0896919 2.1128857 2.1081853] to JSON. Unrecognized type <class 'tensorflow.python.framework.ops.EagerTensor'>."
     ]
    }
   ],
   "source": [
    "# from tensorflow.keras.models import save_model\n",
    "\n",
    "# save_model(model,\"FacialExpressionModel.h5\")"
   ]
  },
  {
   "cell_type": "code",
   "execution_count": 38,
   "metadata": {
    "collapsed": true,
    "id": "URuqTYgqWVu1"
   },
   "outputs": [
    {
     "ename": "TypeError",
     "evalue": "Unable to serialize [2.0896919 2.1128857 2.1081853] to JSON. Unrecognized type <class 'tensorflow.python.framework.ops.EagerTensor'>.",
     "output_type": "error",
     "traceback": [
      "\u001b[1;31m---------------------------------------------------------------------------\u001b[0m",
      "\u001b[1;31mTypeError\u001b[0m                                 Traceback (most recent call last)",
      "\u001b[1;32m~\\AppData\\Local\\Temp\\ipykernel_8512\\3156422650.py\u001b[0m in \u001b[0;36m<module>\u001b[1;34m\u001b[0m\n\u001b[0;32m      1\u001b[0m \u001b[1;31m# Save Model\u001b[0m\u001b[1;33m\u001b[0m\u001b[1;33m\u001b[0m\u001b[0m\n\u001b[1;32m----> 2\u001b[1;33m \u001b[0mmodel\u001b[0m\u001b[1;33m.\u001b[0m\u001b[0msave\u001b[0m\u001b[1;33m(\u001b[0m\u001b[1;34m\"FacialExpressionModel.h5\"\u001b[0m\u001b[1;33m)\u001b[0m\u001b[1;33m\u001b[0m\u001b[1;33m\u001b[0m\u001b[0m\n\u001b[0m",
      "\u001b[1;32m~\\AppData\\Roaming\\Python\\Python39\\site-packages\\keras\\utils\\traceback_utils.py\u001b[0m in \u001b[0;36merror_handler\u001b[1;34m(*args, **kwargs)\u001b[0m\n\u001b[0;32m     68\u001b[0m             \u001b[1;31m# To get the full stack trace, call:\u001b[0m\u001b[1;33m\u001b[0m\u001b[1;33m\u001b[0m\u001b[0m\n\u001b[0;32m     69\u001b[0m             \u001b[1;31m# `tf.debugging.disable_traceback_filtering()`\u001b[0m\u001b[1;33m\u001b[0m\u001b[1;33m\u001b[0m\u001b[0m\n\u001b[1;32m---> 70\u001b[1;33m             \u001b[1;32mraise\u001b[0m \u001b[0me\u001b[0m\u001b[1;33m.\u001b[0m\u001b[0mwith_traceback\u001b[0m\u001b[1;33m(\u001b[0m\u001b[0mfiltered_tb\u001b[0m\u001b[1;33m)\u001b[0m \u001b[1;32mfrom\u001b[0m \u001b[1;32mNone\u001b[0m\u001b[1;33m\u001b[0m\u001b[1;33m\u001b[0m\u001b[0m\n\u001b[0m\u001b[0;32m     71\u001b[0m         \u001b[1;32mfinally\u001b[0m\u001b[1;33m:\u001b[0m\u001b[1;33m\u001b[0m\u001b[1;33m\u001b[0m\u001b[0m\n\u001b[0;32m     72\u001b[0m             \u001b[1;32mdel\u001b[0m \u001b[0mfiltered_tb\u001b[0m\u001b[1;33m\u001b[0m\u001b[1;33m\u001b[0m\u001b[0m\n",
      "\u001b[1;32mC:\\ProgramData\\Anaconda3\\lib\\json\\__init__.py\u001b[0m in \u001b[0;36mdumps\u001b[1;34m(obj, skipkeys, ensure_ascii, check_circular, allow_nan, cls, indent, separators, default, sort_keys, **kw)\u001b[0m\n\u001b[0;32m    232\u001b[0m     \u001b[1;32mif\u001b[0m \u001b[0mcls\u001b[0m \u001b[1;32mis\u001b[0m \u001b[1;32mNone\u001b[0m\u001b[1;33m:\u001b[0m\u001b[1;33m\u001b[0m\u001b[1;33m\u001b[0m\u001b[0m\n\u001b[0;32m    233\u001b[0m         \u001b[0mcls\u001b[0m \u001b[1;33m=\u001b[0m \u001b[0mJSONEncoder\u001b[0m\u001b[1;33m\u001b[0m\u001b[1;33m\u001b[0m\u001b[0m\n\u001b[1;32m--> 234\u001b[1;33m     return cls(\n\u001b[0m\u001b[0;32m    235\u001b[0m         \u001b[0mskipkeys\u001b[0m\u001b[1;33m=\u001b[0m\u001b[0mskipkeys\u001b[0m\u001b[1;33m,\u001b[0m \u001b[0mensure_ascii\u001b[0m\u001b[1;33m=\u001b[0m\u001b[0mensure_ascii\u001b[0m\u001b[1;33m,\u001b[0m\u001b[1;33m\u001b[0m\u001b[1;33m\u001b[0m\u001b[0m\n\u001b[0;32m    236\u001b[0m         \u001b[0mcheck_circular\u001b[0m\u001b[1;33m=\u001b[0m\u001b[0mcheck_circular\u001b[0m\u001b[1;33m,\u001b[0m \u001b[0mallow_nan\u001b[0m\u001b[1;33m=\u001b[0m\u001b[0mallow_nan\u001b[0m\u001b[1;33m,\u001b[0m \u001b[0mindent\u001b[0m\u001b[1;33m=\u001b[0m\u001b[0mindent\u001b[0m\u001b[1;33m,\u001b[0m\u001b[1;33m\u001b[0m\u001b[1;33m\u001b[0m\u001b[0m\n",
      "\u001b[1;32mC:\\ProgramData\\Anaconda3\\lib\\json\\encoder.py\u001b[0m in \u001b[0;36mencode\u001b[1;34m(self, o)\u001b[0m\n\u001b[0;32m    197\u001b[0m         \u001b[1;31m# exceptions aren't as detailed.  The list call should be roughly\u001b[0m\u001b[1;33m\u001b[0m\u001b[1;33m\u001b[0m\u001b[0m\n\u001b[0;32m    198\u001b[0m         \u001b[1;31m# equivalent to the PySequence_Fast that ''.join() would do.\u001b[0m\u001b[1;33m\u001b[0m\u001b[1;33m\u001b[0m\u001b[0m\n\u001b[1;32m--> 199\u001b[1;33m         \u001b[0mchunks\u001b[0m \u001b[1;33m=\u001b[0m \u001b[0mself\u001b[0m\u001b[1;33m.\u001b[0m\u001b[0miterencode\u001b[0m\u001b[1;33m(\u001b[0m\u001b[0mo\u001b[0m\u001b[1;33m,\u001b[0m \u001b[0m_one_shot\u001b[0m\u001b[1;33m=\u001b[0m\u001b[1;32mTrue\u001b[0m\u001b[1;33m)\u001b[0m\u001b[1;33m\u001b[0m\u001b[1;33m\u001b[0m\u001b[0m\n\u001b[0m\u001b[0;32m    200\u001b[0m         \u001b[1;32mif\u001b[0m \u001b[1;32mnot\u001b[0m \u001b[0misinstance\u001b[0m\u001b[1;33m(\u001b[0m\u001b[0mchunks\u001b[0m\u001b[1;33m,\u001b[0m \u001b[1;33m(\u001b[0m\u001b[0mlist\u001b[0m\u001b[1;33m,\u001b[0m \u001b[0mtuple\u001b[0m\u001b[1;33m)\u001b[0m\u001b[1;33m)\u001b[0m\u001b[1;33m:\u001b[0m\u001b[1;33m\u001b[0m\u001b[1;33m\u001b[0m\u001b[0m\n\u001b[0;32m    201\u001b[0m             \u001b[0mchunks\u001b[0m \u001b[1;33m=\u001b[0m \u001b[0mlist\u001b[0m\u001b[1;33m(\u001b[0m\u001b[0mchunks\u001b[0m\u001b[1;33m)\u001b[0m\u001b[1;33m\u001b[0m\u001b[1;33m\u001b[0m\u001b[0m\n",
      "\u001b[1;32mC:\\ProgramData\\Anaconda3\\lib\\json\\encoder.py\u001b[0m in \u001b[0;36miterencode\u001b[1;34m(self, o, _one_shot)\u001b[0m\n\u001b[0;32m    255\u001b[0m                 \u001b[0mself\u001b[0m\u001b[1;33m.\u001b[0m\u001b[0mkey_separator\u001b[0m\u001b[1;33m,\u001b[0m \u001b[0mself\u001b[0m\u001b[1;33m.\u001b[0m\u001b[0mitem_separator\u001b[0m\u001b[1;33m,\u001b[0m \u001b[0mself\u001b[0m\u001b[1;33m.\u001b[0m\u001b[0msort_keys\u001b[0m\u001b[1;33m,\u001b[0m\u001b[1;33m\u001b[0m\u001b[1;33m\u001b[0m\u001b[0m\n\u001b[0;32m    256\u001b[0m                 self.skipkeys, _one_shot)\n\u001b[1;32m--> 257\u001b[1;33m         \u001b[1;32mreturn\u001b[0m \u001b[0m_iterencode\u001b[0m\u001b[1;33m(\u001b[0m\u001b[0mo\u001b[0m\u001b[1;33m,\u001b[0m \u001b[1;36m0\u001b[0m\u001b[1;33m)\u001b[0m\u001b[1;33m\u001b[0m\u001b[1;33m\u001b[0m\u001b[0m\n\u001b[0m\u001b[0;32m    258\u001b[0m \u001b[1;33m\u001b[0m\u001b[0m\n\u001b[0;32m    259\u001b[0m def _make_iterencode(markers, _default, _encoder, _indent, _floatstr,\n",
      "\u001b[1;31mTypeError\u001b[0m: Unable to serialize [2.0896919 2.1128857 2.1081853] to JSON. Unrecognized type <class 'tensorflow.python.framework.ops.EagerTensor'>."
     ]
    }
   ],
   "source": [
    "# Save Model\n",
    "# model.save(\"FacialExpressionModel.h5\")"
   ]
  },
  {
   "cell_type": "code",
   "execution_count": 46,
   "metadata": {
    "id": "zLrRxwHRWVro"
   },
   "outputs": [],
   "source": [
    "# Save Label Encoder\n",
    "\n",
    "def save_object(obj , name):\n",
    "  pickle_obj = open(f\"{name}.pck\",\"wb\")\n",
    "  pickle.dump(obj, pickle_obj)\n",
    "  pickle_obj.close()"
   ]
  },
  {
   "cell_type": "code",
   "execution_count": 47,
   "metadata": {
    "id": "jPi7zG2SWVoc"
   },
   "outputs": [],
   "source": [
    "save_object(Le, \"LabelEncoder\")\n"
   ]
  },
  {
   "cell_type": "code",
   "execution_count": null,
   "metadata": {},
   "outputs": [],
   "source": []
  }
 ],
 "metadata": {
  "accelerator": "GPU",
  "colab": {
   "gpuType": "T4",
   "provenance": []
  },
  "kernelspec": {
   "display_name": "Python 3 (ipykernel)",
   "language": "python",
   "name": "python3"
  },
  "language_info": {
   "codemirror_mode": {
    "name": "ipython",
    "version": 3
   },
   "file_extension": ".py",
   "mimetype": "text/x-python",
   "name": "python",
   "nbconvert_exporter": "python",
   "pygments_lexer": "ipython3",
   "version": "3.9.13"
  }
 },
 "nbformat": 4,
 "nbformat_minor": 1
}
